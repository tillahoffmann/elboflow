{
 "cells": [
  {
   "cell_type": "code",
   "execution_count": null,
   "metadata": {
    "collapsed": true
   },
   "outputs": [],
   "source": [
    "import numpy as np\n",
    "import elboflow as ef\n",
    "import tensorflow as tf\n",
    "import scipy.stats\n",
    "from tqdm import tqdm_notebook\n",
    "from matplotlib import pyplot as plt\n",
    "import logging\n",
    "\n",
    "%matplotlib inline"
   ]
  },
  {
   "cell_type": "code",
   "execution_count": null,
   "metadata": {
    "collapsed": true
   },
   "outputs": [],
   "source": [
    "# Generate a network with different communities\n",
    "np.random.seed(2)\n",
    "num_nodes = 100\n",
    "num_communities = 5\n",
    "\n",
    "# Generate parameters to infer\n",
    "z = np.random.randint(num_communities, size=num_nodes)\n",
    "connection_probas = np.random.uniform(0, .1, (num_communities, num_communities))\n",
    "connection_probas += np.eye(num_communities) * np.random.uniform(0.4, 0.8, num_communities)\n",
    "np.testing.assert_array_less(connection_probas, 1)\n",
    "\n",
    "# Get the actual connection probabilities\n",
    "proba = connection_probas[z[:, None], z[None, :]]\n",
    "adjacency = np.random.uniform(0, 1, proba.shape) < proba\n",
    "\n",
    "# Create a one hot encoding\n",
    "onehot = np.zeros((num_nodes, num_communities))\n",
    "onehot[np.arange(num_nodes), z] = 1"
   ]
  },
  {
   "cell_type": "code",
   "execution_count": null,
   "metadata": {},
   "outputs": [],
   "source": [
    "try:\n",
    "    import networkx as nx\n",
    "    graph = nx.from_numpy_matrix(adjacency, create_using=nx.DiGraph())\n",
    "    \n",
    "    fig, ax = plt.subplots(1, 1)\n",
    "    pos = nx.spectral_layout(graph)\n",
    "    nx.draw_networkx_nodes(graph, pos, node_color=z, cmap='Vega10')\n",
    "    nx.draw_networkx_edges(graph, pos)\n",
    "    ax.set_aspect(1)\n",
    "    \n",
    "except ImportError:\n",
    "    logging.warning(\"this example requires the package `networkx` for visualization\")"
   ]
  },
  {
   "cell_type": "code",
   "execution_count": null,
   "metadata": {},
   "outputs": [],
   "source": [
    "class StochasticBlockModel(ef.Model):\n",
    "    def __init__(self, adjacency, num_communities, create_optimizer=None, create_session=None):\n",
    "        self.num_communities = num_communities\n",
    "        super(StochasticBlockModel, self).__init__(None, [adjacency], create_optimizer, create_session)\n",
    "        \n",
    "    def setup(self, adjacency):\n",
    "        n, _ = adjacency.shape\n",
    "        adjacency = ef.as_tensor(adjacency)\n",
    "        \n",
    "        # Create the distributions\n",
    "        with tf.variable_scope('z', initializer=tf.random_normal_initializer(stddev=0.01)): \n",
    "            q_z = ef.CategoricalDistribution(\n",
    "                ef.get_normalized_variable('z_p', (n, self.num_communities))\n",
    "            )\n",
    "            \n",
    "        with tf.variable_scope('proba', initializer=tf.random_normal_initializer(np.log(np.exp(1) - 1), 0.01)):\n",
    "            q_proba = ef.BetaDistribution(\n",
    "                ef.get_positive_variable('proba_a', (self.num_communities, self.num_communities)),\n",
    "                ef.get_positive_variable('proba_b', (self.num_communities, self.num_communities))\n",
    "            )\n",
    "        \n",
    "        # Evaluate the log-joint distribution\n",
    "        proba_log = ef.evaluate_statistic(q_proba, 'log')\n",
    "        proba_log1m = ef.evaluate_statistic(q_proba, 'log1m')\n",
    "        adjacency = adjacency[..., None, None]\n",
    "        # Get the likelihood for all edges for all possible combinations\n",
    "        bernoulli_ll = tf.add(adjacency * proba_log, (1.0 - adjacency) * proba_log1m, 'pointwise_ll')\n",
    "        mixture_ll = ef.CategoricalDistribution.interacting_mixture_log_likelihood(q_z, bernoulli_ll, 'pointwise_mixture_ll')\n",
    "\n",
    "        return tf.reduce_sum(mixture_ll), {\n",
    "            'z': q_z,\n",
    "            'proba': q_proba\n",
    "        }, {\n",
    "            'z': ef.CategoricalDistribution(np.ones((1, self.num_communities), np.float32) / self.num_communities).log_proba,\n",
    "            'proba': ef.BetaDistribution(1.0, 1.0).log_proba\n",
    "        }\n",
    "    \n",
    "    def create_optimizer(self):\n",
    "        self.lr = tf.where(self.global_step < 500, 0.01, 0.1)\n",
    "        return tf.train.GradientDescentOptimizer(self.lr)\n",
    "    \n",
    "model = StochasticBlockModel(adjacency, num_communities)\n",
    "model.run(model.loss)"
   ]
  },
  {
   "cell_type": "code",
   "execution_count": null,
   "metadata": {},
   "outputs": [],
   "source": [
    "# Show the initial conditions for the community assignments\n",
    "fig, (ax1, ax2) = plt.subplots(1, 2)\n",
    "im = ax1.imshow(model.run(model['z'].statistic(1)).T, aspect='auto')\n",
    "plt.colorbar(im, ax=ax1)\n",
    "ax1.set_ylabel('Communities')\n",
    "ax1.set_xlabel('Nodes')\n",
    "ax1.set_title('$P(z)$')\n",
    "\n",
    "ax2.plot(np.log(num_communities) - model.run(model['z'].entropy))\n",
    "ax2.set_xlabel('Nodes')\n",
    "ax2.set_ylabel('max entropy - entropy')\n",
    "\n",
    "fig.tight_layout()\n",
    "\n",
    "# Show the initial conditions for the connection probabilities\n",
    "fig, (ax1, ax2) = plt.subplots(1, 2)\n",
    "model.plot_proba('proba', ax=ax1)\n",
    "ax1.set_ylabel(r'$P(\\rho)$')\n",
    "ax1.set_xlabel(r'Connection probability $\\rho$')\n",
    "\n",
    "ax2.plot(0 - model.run(model['proba'].entropy).ravel())\n",
    "ax2.set_xlabel(r'Community combinations')\n",
    "ax2.set_ylabel('max entropy - entropy')\n",
    "fig.tight_layout()"
   ]
  },
  {
   "cell_type": "code",
   "execution_count": null,
   "metadata": {},
   "outputs": [],
   "source": [
    "trace = model.optimize(2000, model.loss, tqdm=tqdm_notebook)\n",
    "plt.plot(trace[model.loss])\n",
    "plt.yscale('log')\n",
    "print('Initial loss: %f' % trace[model.loss][0])\n",
    "print('Final   loss: %f' % trace[model.loss][-1])"
   ]
  },
  {
   "cell_type": "code",
   "execution_count": null,
   "metadata": {},
   "outputs": [],
   "source": [
    "plt.imshow(model.run(model['z'].statistic(1))[np.argsort(z)], aspect='auto')"
   ]
  },
  {
   "cell_type": "code",
   "execution_count": null,
   "metadata": {},
   "outputs": [],
   "source": [
    "z_estimate = np.argmax(model.run(model['z'].statistic(1)), axis=1)\n",
    "try:\n",
    "    import networkx as nx\n",
    "    fig, ax = plt.subplots(1, 1)\n",
    "    nx.draw_networkx_nodes(graph, pos, node_color=z_estimate, cmap='Vega10')\n",
    "    nx.draw_networkx_edges(graph, pos)\n",
    "    ax.set_aspect(1)\n",
    "    \n",
    "except ImportError:\n",
    "    logging.warning(\"this example requires the package `networkx` for visualization\")"
   ]
  }
 ],
 "metadata": {
  "kernelspec": {
   "display_name": "Python 3",
   "language": "python",
   "name": "python3"
  },
  "language_info": {
   "codemirror_mode": {
    "name": "ipython",
    "version": 3
   },
   "file_extension": ".py",
   "mimetype": "text/x-python",
   "name": "python",
   "nbconvert_exporter": "python",
   "pygments_lexer": "ipython3",
   "version": "3.5.3"
  }
 },
 "nbformat": 4,
 "nbformat_minor": 2
}
