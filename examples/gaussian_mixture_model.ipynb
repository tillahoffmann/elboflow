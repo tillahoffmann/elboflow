{
 "cells": [
  {
   "cell_type": "code",
   "execution_count": null,
   "metadata": {
    "collapsed": true
   },
   "outputs": [],
   "source": [
    "import numpy as np\n",
    "import elboflow as ef\n",
    "import tensorflow as tf\n",
    "import scipy.stats\n",
    "from tqdm import tqdm_notebook\n",
    "from matplotlib import pyplot as plt, patches as mpatches\n",
    "%matplotlib inline"
   ]
  },
  {
   "cell_type": "code",
   "execution_count": null,
   "metadata": {},
   "outputs": [],
   "source": [
    "# Generate some data for mixtures\n",
    "np.random.seed(2)\n",
    "num_samples = 100\n",
    "num_dims = 2\n",
    "num_components = 5\n",
    "\n",
    "component_means = np.random.normal(0, 1, (num_components, num_dims))\n",
    "component_precisions = np.random.gamma(100, 1, (num_components, num_dims))\n",
    "z = np.random.randint(num_components, size=num_samples)\n",
    "x = component_means[z] + np.random.normal(0, 1, (num_samples, num_dims)) / np.sqrt(component_precisions[z])\n",
    "\n",
    "fig, ax = plt.subplots(1, 1)\n",
    "pts = ax.scatter(*x.T, c=z, cmap='Vega10', marker='.')\n",
    "ax.set_aspect('equal')\n",
    "plt.colorbar(pts)"
   ]
  },
  {
   "cell_type": "code",
   "execution_count": null,
   "metadata": {},
   "outputs": [],
   "source": [
    "# Define the factors\n",
    "q_mu = ef.MultiNormalDistribution(\n",
    "    ef.get_variable('mu_mean', (1, num_components, num_dims)),\n",
    "    ef.get_positive_definite_variable('mu_precision', (1, num_components, num_dims, num_dims))\n",
    ")\n",
    "q_tau = ef.WishartDistribution(\n",
    "    ef.get_positive_variable('tau_dof', (1, num_components)) + float(num_dims - 1),\n",
    "    ef.get_positive_definite_variable('tau_scale', (1, num_components, num_dims, num_dims)),\n",
    ")\n",
    "q_z = ef.CategoricalDistribution(\n",
    "    ef.get_normalized_variable('z_p', (num_samples, num_components))\n",
    ")\n",
    "\n",
    "# This term evaluates the likelihood of all the data points for all possible community assignments\n",
    "log_normal_likelihood = ef.MultiNormalDistribution.log_likelihood(x[:, None, :], q_mu, q_tau)\n",
    "log_mixture_likelihood = ef.CategoricalDistribution.mixture_log_likelihood(q_z, log_normal_likelihood)\n",
    "log_joint = tf.reduce_sum(log_mixture_likelihood) + \\\n",
    "    tf.reduce_sum(ef.NormalDistribution.log_likelihood(q_mu, 0.0, 1e-3)) + \\\n",
    "    tf.reduce_sum(ef.WishartDistribution.log_likelihood(q_tau, 2.0, .2 * np.eye(num_dims))) + \\\n",
    "    tf.reduce_sum(ef.CategoricalDistribution.log_likelihood(q_z, np.ones((1, num_components), np.float32) / num_components))\n",
    "entropy = tf.reduce_sum(q_mu.entropy) + tf.reduce_sum(q_tau.entropy) + tf.reduce_sum(q_z.entropy)\n",
    "elbo = log_joint + entropy\n",
    "\n",
    "# Add a training operation\n",
    "train_op = tf.train.AdamOptimizer(0.1).minimize(-elbo)\n",
    "sess = tf.Session()\n",
    "sess.run(tf.global_variables_initializer())\n",
    "\n",
    "sess.run(elbo)"
   ]
  },
  {
   "cell_type": "code",
   "execution_count": null,
   "metadata": {},
   "outputs": [],
   "source": [
    "# Maximize the ELBO\n",
    "elbos = []\n",
    "means = []\n",
    "\n",
    "for _ in tqdm_notebook(range(5000)):\n",
    "    _, _elbo, _means = sess.run([train_op, elbo, q_mu.mean])\n",
    "    elbos.append(_elbo)\n",
    "    means.append(_means)\n",
    "    \n",
    "plt.plot(-np.asarray(elbos))"
   ]
  },
  {
   "cell_type": "code",
   "execution_count": null,
   "metadata": {},
   "outputs": [],
   "source": [
    "means = np.asarray(means)\n",
    "for i in range(num_components):\n",
    "    line, = plt.plot(*means[:, 0, i].T)\n",
    "    plt.scatter(*means[-1, 0, i].T, color=line.get_color())"
   ]
  },
  {
   "cell_type": "code",
   "execution_count": null,
   "metadata": {},
   "outputs": [],
   "source": [
    "plt.imshow(sess.run(q_z.mean)[np.argsort(z)], aspect='auto')"
   ]
  },
  {
   "cell_type": "code",
   "execution_count": null,
   "metadata": {},
   "outputs": [],
   "source": [
    "fig, ax = plt.subplots(1, 1)\n",
    "pts = ax.scatter(*x.T, c=z, cmap='Vega10', marker='.')\n",
    "\n",
    "_means = sess.run(q_mu.mean)\n",
    "_covs = np.linalg.inv(sess.run(q_tau.mean))\n",
    "for i in range(num_components):\n",
    "    xy = _means[0, i]\n",
    "    _cov = _covs[0, i]\n",
    "    ax.add_artist(ef.ellipse_from_cov(xy, _cov, facecolor='none', edgecolor='r'))\n",
    "    \n",
    "ax.set_aspect('equal')\n",
    "plt.colorbar(pts)"
   ]
  }
 ],
 "metadata": {
  "kernelspec": {
   "display_name": "Python 3",
   "language": "python",
   "name": "python3"
  },
  "language_info": {
   "codemirror_mode": {
    "name": "ipython",
    "version": 3
   },
   "file_extension": ".py",
   "mimetype": "text/x-python",
   "name": "python",
   "nbconvert_exporter": "python",
   "pygments_lexer": "ipython3",
   "version": "3.5.3"
  }
 },
 "nbformat": 4,
 "nbformat_minor": 2
}
