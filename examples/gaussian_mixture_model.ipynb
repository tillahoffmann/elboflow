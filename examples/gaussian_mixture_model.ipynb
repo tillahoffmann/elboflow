{
 "cells": [
  {
   "cell_type": "code",
   "execution_count": null,
   "metadata": {
    "collapsed": true
   },
   "outputs": [],
   "source": [
    "import numpy as np\n",
    "import elboflow as ef\n",
    "import tensorflow as tf\n",
    "import scipy.stats\n",
    "from tqdm import tqdm_notebook\n",
    "from matplotlib import pyplot as plt, patches as mpatches\n",
    "%matplotlib inline"
   ]
  },
  {
   "cell_type": "code",
   "execution_count": null,
   "metadata": {},
   "outputs": [],
   "source": [
    "# Generate some data for mixtures\n",
    "np.random.seed(6)\n",
    "num_samples = 100\n",
    "num_dims = 2\n",
    "num_components = 5\n",
    "\n",
    "component_means = np.random.normal(0, 1, (num_components, num_dims))\n",
    "component_precisions = np.random.gamma(100, 1, (num_components, num_dims))\n",
    "z = np.random.randint(num_components, size=num_samples)\n",
    "x = component_means[z] + np.random.normal(0, 1, (num_samples, num_dims)) / np.sqrt(component_precisions[z])\n",
    "\n",
    "fig, ax = plt.subplots(1, 1)\n",
    "pts = ax.scatter(*x.T, c=z, cmap='Vega10', marker='.')\n",
    "ax.set_aspect('equal')\n",
    "plt.colorbar(pts)"
   ]
  },
  {
   "cell_type": "code",
   "execution_count": null,
   "metadata": {
    "scrolled": false
   },
   "outputs": [],
   "source": [
    "class GaussianMixtureModel(ef.Model):\n",
    "    def __init__(self, x, num_components, create_optimizer=None, create_session=None):\n",
    "        self.num_components = num_components\n",
    "        super(GaussianMixtureModel, self).__init__(None, [x], create_optimizer, create_session)\n",
    "        \n",
    "    def setup(self, x):\n",
    "        n, p = x.shape\n",
    "        \n",
    "        # Define the factors\n",
    "        q_mu = ef.MultiNormalDistribution(\n",
    "            ef.get_variable('mu_mean', (1, self.num_components, p)),\n",
    "            ef.get_positive_definite_variable('mu_precision', (1, self.num_components, p, p))\n",
    "        )\n",
    "        q_tau = ef.WishartDistribution(\n",
    "            ef.get_positive_variable('tau_dof', (1, self.num_components)) + float(p - 1),\n",
    "            ef.get_positive_definite_variable('tau_scale', (1, self.num_components, p, p)),\n",
    "        )\n",
    "        q_z = ef.CategoricalDistribution(\n",
    "            ef.get_normalized_variable('z_p', (n, self.num_components))\n",
    "        )\n",
    "        \n",
    "        # Evaluate the likelihood of all points given all possible component assignments\n",
    "        log_gaussian_likelihood = ef.MultiNormalDistribution.log_likelihood(x[:, None, :], q_mu, q_tau)\n",
    "        # Compute the aggregate likelihood\n",
    "        log_mixture_likelihood = ef.CategoricalDistribution.mixture_log_likelihood(q_z, log_gaussian_likelihood)\n",
    "\n",
    "        return tf.reduce_sum(log_mixture_likelihood), {\n",
    "            'mu': q_mu,\n",
    "            'tau': q_tau,\n",
    "            'z': q_z,\n",
    "        }, {\n",
    "            'mu': ef.NormalDistribution(0.0, 1e-3).log_proba,\n",
    "            'tau': ef.WishartDistribution(2.0, .2 * np.eye(num_dims)).log_proba,\n",
    "            'z': ef.CategoricalDistribution(np.ones((1, num_components), np.float32) / num_components).log_proba\n",
    "        }\n",
    "    \n",
    "model = GaussianMixtureModel(x, num_components)\n",
    "model.run(model.elbo)"
   ]
  },
  {
   "cell_type": "code",
   "execution_count": null,
   "metadata": {},
   "outputs": [],
   "source": [
    "trace = model.optimize(10000, model.loss, tqdm=tqdm_notebook)\n",
    "plt.plot(trace[model.loss])\n",
    "plt.yscale('log')"
   ]
  },
  {
   "cell_type": "code",
   "execution_count": null,
   "metadata": {},
   "outputs": [],
   "source": [
    "fig, ax = plt.subplots(1, 1)\n",
    "pts = ax.scatter(*x.T, c=z, cmap='Vega10', marker='.')\n",
    "\n",
    "_means = model.run(model['mu'].mean)\n",
    "_covs = np.linalg.inv(model.run(model['tau'].mean))\n",
    "for i in range(num_components):\n",
    "    xy = _means[0, i]\n",
    "    _cov = _covs[0, i]\n",
    "    ax.add_artist(ef.ellipse_from_cov(xy, _cov, facecolor='none', edgecolor='r'))\n",
    "    \n",
    "ax.set_aspect('equal')\n",
    "plt.colorbar(pts)"
   ]
  }
 ],
 "metadata": {
  "kernelspec": {
   "display_name": "Python 3",
   "language": "python",
   "name": "python3"
  },
  "language_info": {
   "codemirror_mode": {
    "name": "ipython",
    "version": 3
   },
   "file_extension": ".py",
   "mimetype": "text/x-python",
   "name": "python",
   "nbconvert_exporter": "python",
   "pygments_lexer": "ipython3",
   "version": "3.5.3"
  }
 },
 "nbformat": 4,
 "nbformat_minor": 2
}
