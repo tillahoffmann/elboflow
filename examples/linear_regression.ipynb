{
 "cells": [
  {
   "cell_type": "code",
   "execution_count": null,
   "metadata": {
    "collapsed": true
   },
   "outputs": [],
   "source": [
    "import numpy as np\n",
    "import elboflow as ef\n",
    "import tensorflow as tf\n",
    "import scipy.stats\n",
    "from tqdm import tqdm_notebook\n",
    "from matplotlib import pyplot as plt\n",
    "%matplotlib inline"
   ]
  },
  {
   "cell_type": "code",
   "execution_count": null,
   "metadata": {
    "collapsed": true
   },
   "outputs": [],
   "source": [
    "# Generate some data for linear regression\n",
    "np.random.seed(1)\n",
    "num_samples = 100\n",
    "num_dims = 2\n",
    "\n",
    "feature_means = np.random.normal(0, 1, num_dims)\n",
    "x = ef.add_bias(np.random.normal(0, 1, (num_samples, num_dims)) + feature_means)\n",
    "theta = np.random.normal(0, 1, num_dims + 1)\n",
    "predictor = np.dot(x, theta)\n",
    "tau = np.random.gamma(1)\n",
    "y = predictor + np.random.normal(0, 1 / np.sqrt(tau), num_samples)"
   ]
  },
  {
   "cell_type": "code",
   "execution_count": null,
   "metadata": {},
   "outputs": [],
   "source": [
    "class LinearModel(ef.Model):\n",
    "    def __init__(self, x, y, create_optimizer=None, create_session=None):\n",
    "        super(LinearModel, self).__init__(x, y, create_optimizer=create_optimizer, \n",
    "                                          create_session=create_session)\n",
    "    \n",
    "    def setup(self, x, y):\n",
    "        # Define the factors\n",
    "        q_theta = ef.MultiNormalDistribution(\n",
    "            ef.get_variable('theta_mean', num_dims + 1),\n",
    "            ef.get_positive_definite_variable('theta_log_precision', (num_dims + 1, num_dims + 1))\n",
    "        )\n",
    "        q_tau = ef.GammaDistribution(\n",
    "            ef.get_positive_variable('tau_shape', []),\n",
    "            ef.get_positive_variable('tau_scale', []),\n",
    "        )\n",
    "        \n",
    "        # Compute the likelihood and joint distribution\n",
    "        log_likelihood = tf.reduce_sum(ef.NormalDistribution.linear_log_likelihood(x, y, q_theta, q_tau))\n",
    "            \n",
    "        return log_likelihood, {\n",
    "            'theta': q_theta,\n",
    "            'tau': q_tau\n",
    "        }, {\n",
    "            'theta': ef.MultiNormalDistribution(np.zeros(num_dims + 1), 1e-3 * np.eye(num_dims + 1)).log_proba,\n",
    "            'tau': ef.GammaDistribution(1e-3, 1e-3).log_proba\n",
    "        }\n",
    "    \n",
    "model = LinearModel(x, y)\n",
    "model.run(model.elbo)"
   ]
  },
  {
   "cell_type": "code",
   "execution_count": null,
   "metadata": {},
   "outputs": [],
   "source": [
    "trace = model.optimize(2000, [model.loss], tqdm=tqdm_notebook)\n",
    "plt.plot(trace[model.loss])\n",
    "plt.yscale('log')"
   ]
  },
  {
   "cell_type": "code",
   "execution_count": null,
   "metadata": {},
   "outputs": [],
   "source": [
    "fig, (ax1, ax2) = plt.subplots(1, 2)\n",
    "\n",
    "model.plot_comparison('theta', theta, ax=ax1)\n",
    "model.plot_proba('tau', reference=tau, ax=ax2)"
   ]
  },
  {
   "cell_type": "code",
   "execution_count": null,
   "metadata": {},
   "outputs": [],
   "source": [
    "model.plot_cov('theta')"
   ]
  }
 ],
 "metadata": {
  "kernelspec": {
   "display_name": "Python 3",
   "language": "python",
   "name": "python3"
  },
  "language_info": {
   "codemirror_mode": {
    "name": "ipython",
    "version": 3
   },
   "file_extension": ".py",
   "mimetype": "text/x-python",
   "name": "python",
   "nbconvert_exporter": "python",
   "pygments_lexer": "ipython3",
   "version": "3.5.3"
  }
 },
 "nbformat": 4,
 "nbformat_minor": 2
}
