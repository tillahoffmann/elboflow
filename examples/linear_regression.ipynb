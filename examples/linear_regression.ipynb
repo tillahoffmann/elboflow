{
 "cells": [
  {
   "cell_type": "code",
   "execution_count": null,
   "metadata": {
    "collapsed": true
   },
   "outputs": [],
   "source": [
    "import numpy as np\n",
    "import elboflow as ef\n",
    "import tensorflow as tf\n",
    "import scipy.stats\n",
    "from tqdm import tqdm_notebook\n",
    "from matplotlib import pyplot as plt\n",
    "%matplotlib inline"
   ]
  },
  {
   "cell_type": "code",
   "execution_count": null,
   "metadata": {
    "collapsed": true
   },
   "outputs": [],
   "source": [
    "# Generate some data for linear regression\n",
    "np.random.seed(1)\n",
    "num_samples = 100\n",
    "num_dims = 3\n",
    "\n",
    "x = np.random.normal(0, 1, (num_samples, num_dims))\n",
    "theta = np.random.normal(0, 1, num_dims)\n",
    "predictor = np.dot(x, theta)\n",
    "tau = np.random.gamma(1)\n",
    "y = predictor + np.random.normal(0, 1 / np.sqrt(tau), num_samples)"
   ]
  },
  {
   "cell_type": "code",
   "execution_count": null,
   "metadata": {},
   "outputs": [],
   "source": [
    "# Construct a graph\n",
    "with tf.Graph().as_default() as graph:\n",
    "    # Define the factors\n",
    "    q_theta = ef.NormalDistribution(\n",
    "        tf.get_variable('theta_mean', num_dims, initializer=tf.random_normal_initializer()),\n",
    "        tf.exp(tf.get_variable('theta_log_precision', num_dims, initializer=tf.random_normal_initializer()))\n",
    "    )\n",
    "    q_tau = ef.GammaDistribution(\n",
    "        tf.exp(tf.get_variable('tau_shape', [], initializer=tf.random_normal_initializer())),\n",
    "        tf.exp(tf.get_variable('tau_scale', [], initializer=tf.random_normal_initializer())),\n",
    "    )\n",
    "    \n",
    "    # Evaluate the expected log joint distribution\n",
    "    log_likelihood = ef.NormalDistribution.linear_log_likelihood(y, x, q_theta, q_tau, True)\n",
    "    log_joint = log_likelihood + ef.NormalDistribution(0, 1e-3).log_pdf(q_theta, True) + \\\n",
    "        ef.GammaDistribution(1e-3, 1e-3).log_pdf(q_tau, True)\n",
    "    # Add the entropy\n",
    "    elbo = log_joint + tf.reduce_sum(q_theta.entropy) + q_tau.entropy\n",
    "    \n",
    "    # Add a training operation\n",
    "    train_op = tf.train.AdamOptimizer(0.1).minimize(-elbo)\n",
    "    sess = tf.Session()\n",
    "    sess.run(tf.global_variables_initializer())\n",
    "    \n",
    "sess.run(elbo)"
   ]
  },
  {
   "cell_type": "code",
   "execution_count": null,
   "metadata": {},
   "outputs": [],
   "source": [
    "# Maximize the ELBO\n",
    "elbos = []\n",
    "\n",
    "for _ in tqdm_notebook(range(1000)):\n",
    "    _, _elbo = sess.run([train_op, elbo])\n",
    "    elbos.append(_elbo)\n",
    "    \n",
    "plt.plot(-np.asarray(elbos))\n",
    "plt.yscale('log')"
   ]
  },
  {
   "cell_type": "code",
   "execution_count": null,
   "metadata": {},
   "outputs": [],
   "source": [
    "fig, (ax1, ax2) = plt.subplots(1, 2)\n",
    "\n",
    "with graph.as_default():\n",
    "    ef.plot_pdf(sess, q_theta, reference=theta, ax=ax1)\n",
    "    ef.plot_pdf(sess, q_tau, reference=tau, ax=ax2)"
   ]
  },
  {
   "cell_type": "code",
   "execution_count": null,
   "metadata": {},
   "outputs": [],
   "source": [
    "with graph.as_default():\n",
    "    foo = ef.plot_comparison(sess, q_theta, theta, ax=plt.gca())"
   ]
  }
 ],
 "metadata": {
  "kernelspec": {
   "display_name": "Python 3",
   "language": "python",
   "name": "python3"
  },
  "language_info": {
   "codemirror_mode": {
    "name": "ipython",
    "version": 3
   },
   "file_extension": ".py",
   "mimetype": "text/x-python",
   "name": "python",
   "nbconvert_exporter": "python",
   "pygments_lexer": "ipython3",
   "version": "3.5.3"
  }
 },
 "nbformat": 4,
 "nbformat_minor": 2
}
