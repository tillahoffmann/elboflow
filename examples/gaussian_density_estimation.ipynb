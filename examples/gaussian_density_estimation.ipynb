{
 "cells": [
  {
   "cell_type": "code",
   "execution_count": null,
   "metadata": {
    "collapsed": true
   },
   "outputs": [],
   "source": [
    "import numpy as np\n",
    "import elboflow as ef\n",
    "import tensorflow as tf\n",
    "import scipy.stats\n",
    "from tqdm import tqdm_notebook\n",
    "from matplotlib import pyplot as plt\n",
    "%matplotlib inline"
   ]
  },
  {
   "cell_type": "code",
   "execution_count": null,
   "metadata": {},
   "outputs": [],
   "source": [
    "# Generate some data from a multivariate normal distribution\n",
    "np.random.seed(2)\n",
    "num_samples = 1000\n",
    "num_dims = 2\n",
    "\n",
    "mean = np.random.normal(0, 1, num_dims) + (3, -2)\n",
    "precision = scipy.stats.wishart.rvs(num_dims, np.eye(num_dims))\n",
    "cov = np.linalg.inv(precision)\n",
    "\n",
    "x = np.random.multivariate_normal(mean, cov, num_samples)\n",
    "\n",
    "fig, ax = plt.subplots(1, 1)\n",
    "ax.scatter(*x.T)\n",
    "ax.axhline(mean[1], ls=':')\n",
    "ax.axvline(mean[0], ls=':')\n",
    "ax.set_aspect('equal')"
   ]
  },
  {
   "cell_type": "code",
   "execution_count": null,
   "metadata": {},
   "outputs": [],
   "source": [
    "# Define the factors\n",
    "q_mu = ef.MultiNormalDistribution(\n",
    "    ef.get_variable('mu_mean', num_dims),\n",
    "    ef.get_positive_definite_variable('mu_precision', (num_dims, num_dims))\n",
    ")\n",
    "q_tau = ef.WishartDistribution(\n",
    "    ef.get_positive_variable('tau_dof', []) + float(num_dims - 1),\n",
    "    ef.get_positive_definite_variable('tau_scale', (num_dims, num_dims)),\n",
    ")\n",
    "\n",
    "prior_mu = ef.NormalDistribution(0.0, 1e-3)\n",
    "prior_tau = ef.WishartDistribution(2.0, 2.0 * np.eye(num_dims))\n",
    "\n",
    "# This term evaluates the likelihood of all the data points for all possible community assignments\n",
    "log_likelihood = ef.MultiNormalDistribution.log_likelihood(x, q_mu, q_tau)\n",
    "log_joint = tf.reduce_sum(log_likelihood) + \\\n",
    "    tf.reduce_sum(prior_mu.log_proba(q_mu)) + \\\n",
    "    tf.reduce_sum(prior_tau.log_proba(q_tau))\n",
    "entropy = tf.reduce_sum(q_mu.entropy) + tf.reduce_sum(q_tau.entropy)\n",
    "elbo = log_joint + entropy\n",
    "\n",
    "# Add a training operation\n",
    "train_op = tf.train.AdamOptimizer(1).minimize(-elbo)\n",
    "sess = tf.Session()\n",
    "sess.run(tf.global_variables_initializer())\n",
    "\n",
    "sess.run(elbo)"
   ]
  },
  {
   "cell_type": "code",
   "execution_count": null,
   "metadata": {},
   "outputs": [],
   "source": [
    "# Maximize the ELBO\n",
    "elbos = []\n",
    "precisions = []\n",
    "\n",
    "for _ in tqdm_notebook(range(2000)):\n",
    "    _, _elbo, _precision = sess.run([train_op, elbo, q_tau.statistic(1)])\n",
    "    elbos.append(_elbo)\n",
    "    precisions.append(_precision)\n",
    "    \n",
    "plt.plot(-np.asarray(elbos))"
   ]
  },
  {
   "cell_type": "code",
   "execution_count": null,
   "metadata": {},
   "outputs": [],
   "source": [
    "fig, (ax1, ax2) = plt.subplots(1, 2)\n",
    "ef.plot_comparison(sess, q_mu, mean, ax=ax1)\n",
    "ef.plot_comparison(sess, q_tau, precision, ax=ax2)"
   ]
  }
 ],
 "metadata": {
  "kernelspec": {
   "display_name": "Python 3",
   "language": "python",
   "name": "python3"
  },
  "language_info": {
   "codemirror_mode": {
    "name": "ipython",
    "version": 3
   },
   "file_extension": ".py",
   "mimetype": "text/x-python",
   "name": "python",
   "nbconvert_exporter": "python",
   "pygments_lexer": "ipython3",
   "version": "3.5.3"
  }
 },
 "nbformat": 4,
 "nbformat_minor": 2
}
